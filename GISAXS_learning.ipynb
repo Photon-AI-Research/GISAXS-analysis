{
 "cells": [
  {
   "cell_type": "markdown",
   "metadata": {},
   "source": [
    "## Creating dataset"
   ]
  },
  {
   "cell_type": "code",
   "execution_count": null,
   "metadata": {},
   "outputs": [],
   "source": [
    "import random\n",
    "import numpy as np\n",
    "import torch\n",
    "import torch.nn as nn\n",
    "import torch.nn.functional as F\n",
    "\n",
    "from torch import optim\n",
    "from tqdm import tqdm\n",
    "from glob import glob\n",
    "\n",
    "import matplotlib.pyplot as plt\n",
    "\n",
    "from models.convnet import ConvNet\n",
    "from models.resnet import ResNet\n",
    "\n",
    "from dataset.ba_dataset import setup_data_loaders\n",
    "from dataset.preprocessing import Transform"
   ]
  },
  {
   "cell_type": "code",
   "execution_count": null,
   "metadata": {},
   "outputs": [],
   "source": [
    "len(glob('/bigdata/hplsim/aipp/Maksim/BA_simulation/layer_3_easy/*'))"
   ]
  },
  {
   "cell_type": "raw",
   "metadata": {},
   "source": [
    "Y = n_layers x [delta, beta, thickness, roughness, hurst, corrlen]"
   ]
  },
  {
   "cell_type": "code",
   "execution_count": null,
   "metadata": {},
   "outputs": [],
   "source": [
    "n_samples = 10000\n",
    "batch_size = 100\n",
    "pin_memory = False\n",
    "num_workers = 0\n",
    "path = '/bigdata/hplsim/aipp/Maksim/BA_simulation/layer_3_easy/'\n",
    "preload = True\n",
    "val_frac = .01\n",
    "\n",
    "transformation = Transform(True, True, True)\n",
    "loaders = setup_data_loaders(path, n_samples, batch_size, transform=transformation, val_frac = val_frac, preload=preload, num_workers=num_workers, pin_memory=pin_memory)"
   ]
  },
  {
   "cell_type": "code",
   "execution_count": null,
   "metadata": {},
   "outputs": [],
   "source": [
    "plt.imshow(loaders['train'].dataset[3][0].squeeze())\n",
    "plt.colorbar()"
   ]
  },
  {
   "cell_type": "markdown",
   "metadata": {},
   "source": [
    "## Surrogate model"
   ]
  },
  {
   "cell_type": "code",
   "execution_count": null,
   "metadata": {
    "scrolled": true
   },
   "outputs": [],
   "source": [
    "%run train_surrogate.py --n_samples 8000 --n_channels 64 --n_epochs 1000 --data_min 30 --data_max 20000 --log 1 --minmax 1 --data_path '/bigdata/hplsim/aipp/Maksim/BA_simulation/layer_3_hard/'"
   ]
  },
  {
   "cell_type": "code",
   "execution_count": null,
   "metadata": {},
   "outputs": [],
   "source": [
    "import random\n",
    "import matplotlib.pyplot as plt"
   ]
  },
  {
   "cell_type": "code",
   "execution_count": null,
   "metadata": {},
   "outputs": [],
   "source": [
    "xs, ys = next(iter(loaders['train']))\n",
    "x_pred = model(ys.cuda())"
   ]
  },
  {
   "cell_type": "code",
   "execution_count": null,
   "metadata": {},
   "outputs": [],
   "source": [
    "plt.figure(figsize = [10,10])\n",
    "\n",
    "i = random.randint(0, args.batch_size)\n",
    "\n",
    "plt.subplot(1, 2, 1)\n",
    "plt.imshow(xs.squeeze()[0], vmin = -1, vmax = 1)\n",
    "plt.colorbar()\n",
    "plt.title('GT')\n",
    "\n",
    "plt.subplot(1, 2, 2)\n",
    "plt.imshow(x_pred[i,0].cpu().detach(), vmin = -1, vmax = 1)\n",
    "plt.colorbar()\n",
    "plt.title('pred')"
   ]
  }
 ],
 "metadata": {
  "kernelspec": {
   "display_name": "py38",
   "language": "python",
   "name": "py38"
  },
  "language_info": {
   "codemirror_mode": {
    "name": "ipython",
    "version": 3
   },
   "file_extension": ".py",
   "mimetype": "text/x-python",
   "name": "python",
   "nbconvert_exporter": "python",
   "pygments_lexer": "ipython3",
   "version": "3.8.13"
  }
 },
 "nbformat": 4,
 "nbformat_minor": 2
}
