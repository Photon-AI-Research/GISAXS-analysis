{
 "cells": [
  {
   "cell_type": "code",
   "execution_count": 1,
   "id": "e1981947",
   "metadata": {},
   "outputs": [
    {
     "name": "stderr",
     "output_type": "stream",
     "text": [
      "/home/zhdano82/.conda/envs/pyg/lib/python3.8/site-packages/torchvision/io/image.py:13: UserWarning: Failed to load image Python extension: /home/zhdano82/.conda/envs/pyg/lib/python3.8/site-packages/torchvision/image.so: undefined symbol: _ZN5torch3jit17parseSchemaOrNameERKNSt7__cxx1112basic_stringIcSt11char_traitsIcESaIcEEE\n",
      "  warn(f\"Failed to load image Python extension: {e}\")\n"
     ]
    }
   ],
   "source": [
    "import sys\n",
    "sys.path.append('..')\n",
    "import torch\n",
    "import pytorch_lightning as pl\n",
    "from datetime import datetime\n",
    "\n",
    "from dataset.ba_dataset import GISAXSDataModule\n",
    "from models.pipeline import Pipeline"
   ]
  },
  {
   "cell_type": "markdown",
   "id": "de736119",
   "metadata": {},
   "source": [
    "# Training dataset"
   ]
  },
  {
   "cell_type": "code",
   "execution_count": 2,
   "id": "3caf6c77",
   "metadata": {},
   "outputs": [],
   "source": [
    "mode = '1d2d' # both in-plane projections and 2D images\n",
    "path = '/bigdata/hplsim/aipp/Maksim/BA_simulation/complete/'\n",
    "batch_size = 32\n",
    "train_frac = 0.8 # fraction of points to train on, remaining - to validate on\n",
    "n_layers = 12 # number of layers in material\n",
    "\n",
    "#! change n_dp tp 650000 when training the final model\n",
    "n_dp = 400000 # number of datapoints in the training dataset\n",
    "\n",
    "in_shape = (1024,512) # shape of images in raw data\n",
    "out_shape = (128,16) # shape of preprocessed images\n",
    "to_preload = False # preload data in RAM before training\n",
    "\n",
    "# augmentation variables\n",
    "to_augment = 0\n",
    "sigma = None\n",
    "drop_y = None\n",
    "sp_prob = None\n",
    "drop_prob = None"
   ]
  },
  {
   "cell_type": "code",
   "execution_count": 3,
   "id": "f154e594",
   "metadata": {},
   "outputs": [],
   "source": [
    "train_file = f'/bigdata/hplsim/aipp/Maksim/BA_simulation/exp_data/data_{n_layers}_{n_dp}.pt'\n",
    "test_file = f'/bigdata/hplsim/aipp/Maksim/BA_simulation/exp_data/data_{n_layers}_test.pt'\n",
    "preloaded_files = {'train': train_file, 'test_file': test_file}"
   ]
  },
  {
   "cell_type": "code",
   "execution_count": 4,
   "id": "fd4d2065",
   "metadata": {},
   "outputs": [],
   "source": [
    "indices = range(0, n_dp)\n",
    "data_module = GISAXSDataModule(mode, batch_size, preloaded_files=preloaded_files, path=path, \n",
    "                               indices=indices, to_preload=to_preload, to_augment=to_augment,\n",
    "                               in_shape=in_shape, out_shape=out_shape,\n",
    "                               sigma=sigma, drop_y=drop_y, sp_prob=sp_prob, \n",
    "                               mask=True, verbose=True, order=False)"
   ]
  },
  {
   "cell_type": "markdown",
   "id": "54aef312",
   "metadata": {},
   "source": [
    "# Model"
   ]
  },
  {
   "cell_type": "code",
   "execution_count": 5,
   "id": "ebfd78cb",
   "metadata": {},
   "outputs": [],
   "source": [
    "config = dict(\n",
    "    context_dim=96,\n",
    "    flow_hidden=64,\n",
    "    hidden_dim_dec=4,\n",
    "    hidden_dim_enc=16,\n",
    "    latent_dim=4)\n",
    "\n",
    "cvae_params = dict(\n",
    "    latent_dim=config['latent_dim'],\n",
    "    context_dim=config['context_dim'], \n",
    "    hidden_dim_enc=config['hidden_dim_enc'],\n",
    "    hidden_dim_dec=config['hidden_dim_dec'],\n",
    "    n_samples=1,\n",
    "    drop_prob=0.1,\n",
    ")"
   ]
  },
  {
   "cell_type": "code",
   "execution_count": 6,
   "id": "09f98cbc",
   "metadata": {},
   "outputs": [],
   "source": [
    "pipe = Pipeline(n_layers=12, n_transforms=8, hidden_dim=config['flow_hidden'], \n",
    "                cvae_params=cvae_params, lr=1e-3, step_lr=10)"
   ]
  },
  {
   "cell_type": "code",
   "execution_count": 7,
   "id": "0466050a",
   "metadata": {},
   "outputs": [
    {
     "name": "stderr",
     "output_type": "stream",
     "text": [
      "Multiprocessing is handled by SLURM.\n",
      "GPU available: True, used: True\n",
      "TPU available: False, using: 0 TPU cores\n",
      "IPU available: False, using: 0 IPUs\n",
      "HPU available: False, using: 0 HPUs\n"
     ]
    }
   ],
   "source": [
    "progress_bar = pl.callbacks.TQDMProgressBar(refresh_rate=1000)\n",
    "\n",
    "trainer = pl.Trainer(logger=None, max_epochs=30, \n",
    "                     callbacks=progress_bar, devices=\"auto\", accelerator=\"auto\", \n",
    "                     enable_progress_bar=True, enable_checkpointing=False, \n",
    "                     gradient_clip_val=1.5, accumulate_grad_batches=1)"
   ]
  },
  {
   "cell_type": "code",
   "execution_count": null,
   "id": "4d8219ed",
   "metadata": {},
   "outputs": [],
   "source": [
    "trainer.fit(model=pipe, datamodule=data_module)"
   ]
  },
  {
   "cell_type": "code",
   "execution_count": 31,
   "id": "69fdc7a1",
   "metadata": {},
   "outputs": [],
   "source": [
    "dateTimeObj = datetime.now()\n",
    "timestring = f'{dateTimeObj.date().month}{dateTimeObj.date().day}{dateTimeObj.time().hour}{dateTimeObj.time().minute}'\n",
    "\n",
    "torch.save(pipe.state_dict(), f'saved_models/pipe_{timestring}.pt')"
   ]
  },
  {
   "cell_type": "code",
   "execution_count": null,
   "id": "0344cd5e",
   "metadata": {},
   "outputs": [],
   "source": []
  }
 ],
 "metadata": {
  "kernelspec": {
   "display_name": "pyg",
   "language": "python",
   "name": "pyg"
  },
  "language_info": {
   "codemirror_mode": {
    "name": "ipython",
    "version": 3
   },
   "file_extension": ".py",
   "mimetype": "text/x-python",
   "name": "python",
   "nbconvert_exporter": "python",
   "pygments_lexer": "ipython3",
   "version": "3.8.16"
  }
 },
 "nbformat": 4,
 "nbformat_minor": 5
}
