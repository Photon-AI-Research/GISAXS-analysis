{
 "cells": [
  {
   "cell_type": "code",
   "execution_count": 8,
   "metadata": {},
   "outputs": [],
   "source": [
    "import numpy as np\n",
    "import matplotlib.pyplot as plt\n",
    "from torchvision.utils import make_grid\n",
    "from models.training import test"
   ]
  },
  {
   "cell_type": "markdown",
   "metadata": {},
   "source": [
    "### Load surrogate model"
   ]
  },
  {
   "cell_type": "markdown",
   "metadata": {},
   "source": [
    "The following script initializes a model and loads the dataset. Afterwards, the model is trained on the data. \n",
    "If the 'train' flag is 0, the model is not trained. Hence, keep it so unless you want to pretrain a surrogate model yourself. \n",
    "\n",
    "The pre-trained model is trained on samples with ids from 0 to 50000. The range of loaded data is defined by 'start_id' (first) and 'n_samples' (last)."
   ]
  },
  {
   "cell_type": "code",
   "execution_count": 1,
   "metadata": {},
   "outputs": [
    {
     "name": "stderr",
     "output_type": "stream",
     "text": [
      "/home/zhdano82/.conda/envs/py38/lib/python3.8/site-packages/tqdm/auto.py:22: TqdmWarning: IProgress not found. Please update jupyter and ipywidgets. See https://ipywidgets.readthedocs.io/en/stable/user_install.html\n",
      "  from .autonotebook import tqdm as notebook_tqdm\n",
      "100%|██████████| 1/1 [00:00<00:00, 29.76it/s]\n"
     ]
    },
    {
     "name": "stdout",
     "output_type": "stream",
     "text": [
      "File 5.h5 is not found\n"
     ]
    },
    {
     "name": "stderr",
     "output_type": "stream",
     "text": [
      "100%|██████████| 1/1 [00:00<00:00, 32.43it/s]\n"
     ]
    },
    {
     "name": "stdout",
     "output_type": "stream",
     "text": [
      "File 4.h5 is not found\n",
      "\n",
      " Data loaders created\n"
     ]
    }
   ],
   "source": [
    "%run scripts/train_surrogate.py --verbose 1 --start_id 50000 --n_samples 51000 --augmentation 0 --distance 'l2' --train 0 --in_shape 128 16 --n_layers 3 --n_epochs 1000 --batch_size 16 --model 'fcnet' --minmax 1 --log 1 --data_path '/bigdata/hplsim/aipp/Maksim/BA_simulation/layer_3/' --savedir 'saved_models/'"
   ]
  },
  {
   "cell_type": "markdown",
   "metadata": {},
   "source": [
    "Let us now load a pre-trained surrogate model and test its performance on our training data. \n",
    "\n",
    "Note: if the range (start_id, n_samples) does not intersect with (0,50000), all the samples in the loaded dataset are unseen for the pre-trained model."
   ]
  },
  {
   "cell_type": "code",
   "execution_count": null,
   "metadata": {},
   "outputs": [],
   "source": [
    "pt_name = 'fcnet___1_1_0_l1_3_128_16_pt'\n",
    "model.load_state_dict(torch.load('./saved_models/'+pt_name, map_location=device))\n",
    "\n",
    "test_loss = test(loaders['train'], model)\n",
    "print('Val MSE: {:.4f}'.format(test(loaders['train'], model)))\n",
    "\n",
    "assert test_loss < 1e-2, \"Test loss is too high. Please contact me (Maksim Zhdanov) in Mattermost.\""
   ]
  },
  {
   "cell_type": "markdown",
   "metadata": {},
   "source": [
    "### Visualize the simulation"
   ]
  },
  {
   "cell_type": "markdown",
   "metadata": {},
   "source": [
    "Let us now visualize how the model is able to simulate GISAXS images."
   ]
  },
  {
   "cell_type": "code",
   "execution_count": null,
   "metadata": {},
   "outputs": [],
   "source": [
    "xs, ys = next(iter(loaders['train']))\n",
    "x_pred = model(ys.cuda()).cpu().detach()"
   ]
  },
  {
   "cell_type": "code",
   "execution_count": null,
   "metadata": {},
   "outputs": [],
   "source": [
    "grid_img = make_grid(xs.unsqueeze(1)[:9], nrow=3).cpu().detach()\n",
    "grid_img_pred = make_grid(x_pred[:9], nrow=3).cpu().detach()"
   ]
  },
  {
   "cell_type": "code",
   "execution_count": null,
   "metadata": {},
   "outputs": [],
   "source": [
    "plt.figure(figsize=[16,10])\n",
    "\n",
    "plt.subplot(1,3,1)\n",
    "plt.title('BornAgain simulation', fontsize = 20)\n",
    "plt.imshow(grid_img[0], vmin = 0, vmax = 1, aspect = 'auto', interpolation='nearest')\n",
    "plt.axis('off')\n",
    "\n",
    "plt.subplot(1,3,2)\n",
    "plt.title('Surrogate model simulation', fontsize = 20)\n",
    "plt.imshow(grid_img_pred[0], vmin = 0, vmax = 1, aspect = 'auto', interpolation='nearest')\n",
    "plt.axis('off')\n",
    "\n",
    "plt.subplot(1,3,3)\n",
    "plt.title('Difference', fontsize = 20)\n",
    "plt.imshow(grid_img[0] - grid_img_pred[0], aspect = 'auto', interpolation='nearest')\n",
    "plt.axis('off')\n",
    "plt.colorbar()"
   ]
  },
  {
   "cell_type": "code",
   "execution_count": null,
   "metadata": {},
   "outputs": [],
   "source": []
  }
 ],
 "metadata": {
  "kernelspec": {
   "display_name": "py38",
   "language": "python",
   "name": "py38"
  },
  "language_info": {
   "codemirror_mode": {
    "name": "ipython",
    "version": 3
   },
   "file_extension": ".py",
   "mimetype": "text/x-python",
   "name": "python",
   "nbconvert_exporter": "python",
   "pygments_lexer": "ipython3",
   "version": "3.8.13"
  }
 },
 "nbformat": 4,
 "nbformat_minor": 2
}
